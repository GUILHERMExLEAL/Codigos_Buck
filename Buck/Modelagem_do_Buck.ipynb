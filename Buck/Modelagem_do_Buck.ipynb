{
  "nbformat": 4,
  "nbformat_minor": 0,
  "metadata": {
    "colab": {
      "provenance": []
    },
    "kernelspec": {
      "name": "python3",
      "display_name": "Python 3"
    },
    "language_info": {
      "name": "python"
    }
  },
  "cells": [
    {
      "cell_type": "code",
      "execution_count": null,
      "metadata": {
        "id": "3gau-5iPut9J"
      },
      "outputs": [],
      "source": [
        "import numpy as np\n",
        "import sympy as sym # Pacote de matemática simbólica;\n",
        "from sympy import MatrixSymbol, Matrix"
      ]
    },
    {
      "cell_type": "code",
      "source": [
        "t = sym.Symbol('t')\n",
        "u = sym.Symbol('u')\n",
        "\n",
        "R = sym.Symbol('R')\n",
        "L = sym.Symbol('L')\n",
        "C = sym.Symbol('C')\n",
        "\n",
        "k = sym.Symbol('k')\n",
        "\n",
        "s = sym.Symbol('s')\n",
        "\n",
        "Vi = sym.Symbol('V_i')"
      ],
      "metadata": {
        "id": "yRZHXNGxvDDE"
      },
      "execution_count": null,
      "outputs": []
    },
    {
      "cell_type": "code",
      "source": [
        "# Matrizes de estado com a chave aberta:\n",
        "A1 = Matrix([[0, -1/L], [1/C, -1/(R*C)]])\n",
        "B1 = Matrix([[1/L], [0]])\n",
        "C1 = Matrix([[0, 1]])\n",
        "\n",
        "# Matrizes de estado com a chave fechado:\n",
        "A2 = Matrix([[0, -1/L], [1/C, -1/(R*C)]])\n",
        "B2 = Matrix([[0], [0]])\n",
        "C2 = Matrix([[0, 1]])\n"
      ],
      "metadata": {
        "id": "NEuBYMpDwIRs"
      },
      "execution_count": null,
      "outputs": []
    },
    {
      "cell_type": "code",
      "source": [
        "# Matrizes de estado do modelo médio:\n",
        "A = sym.simplify(A1*k + A2*(1-k))\n",
        "B = sym.simplify(B1*k + B2*(1-k))\n",
        "Cm = sym.simplify(C1*k + C2*(1-k))\n",
        "\n",
        "A"
      ],
      "metadata": {
        "colab": {
          "base_uri": "https://localhost:8080/",
          "height": 58
        },
        "id": "JOO5nxubNDgo",
        "outputId": "1a96bd56-0454-4cc0-9039-b943ca5d3467"
      },
      "execution_count": null,
      "outputs": [
        {
          "output_type": "execute_result",
          "data": {
            "text/plain": [
              "Matrix([\n",
              "[  0,     -1/L],\n",
              "[1/C, -1/(C*R)]])"
            ],
            "text/latex": "$\\displaystyle \\left[\\begin{matrix}0 & - \\frac{1}{L}\\\\\\frac{1}{C} & - \\frac{1}{C R}\\end{matrix}\\right]$"
          },
          "metadata": {},
          "execution_count": 7
        }
      ]
    },
    {
      "cell_type": "markdown",
      "source": [
        "$$ G(s) = \\frac{v_o(s)}{d(s)}$$"
      ],
      "metadata": {
        "id": "UA4rCmk0TXlI"
      }
    },
    {
      "cell_type": "code",
      "source": [
        "G = (Cm*((s*np.eye(2)-A).inv())*B*Vi)[0]\n",
        "\n",
        "G"
      ],
      "metadata": {
        "colab": {
          "base_uri": "https://localhost:8080/",
          "height": 53
        },
        "id": "pNE2auPHTSLT",
        "outputId": "554159a4-f2ab-413a-dc03-99ef6d254a40"
      },
      "execution_count": null,
      "outputs": [
        {
          "output_type": "execute_result",
          "data": {
            "text/plain": [
              "1.0*R*V_i*k/(1.0*C*L*R*s**2 + 1.0*L*s + 1.0*R)"
            ],
            "text/latex": "$\\displaystyle \\frac{1.0 R V_{i} k}{1.0 C L R s^{2} + 1.0 L s + 1.0 R}$"
          },
          "metadata": {},
          "execution_count": 8
        }
      ]
    }
  ]
}